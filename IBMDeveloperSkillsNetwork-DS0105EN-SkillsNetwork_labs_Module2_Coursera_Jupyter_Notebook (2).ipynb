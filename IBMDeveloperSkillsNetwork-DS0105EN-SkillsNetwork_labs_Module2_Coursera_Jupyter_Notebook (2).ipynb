{
  "metadata": {
    "kernelspec": {
      "name": "python",
      "display_name": "Pyolite",
      "language": "python"
    },
    "language_info": {
      "name": ""
    }
  },
  "nbformat_minor": 4,
  "nbformat": 4,
  "cells": [
    {
      "cell_type": "markdown",
      "source": "<center>\n    <img src=\"https://cf-courses-data.s3.us.cloud-object-storage.appdomain.cloud/IBMDeveloperSkillsNetwork-DS0105EN-SkillsNetwork/labs/Module2/images/SN_web_lightmode.png\" width=\"300\" alt=\"cognitiveclass.ai logo\">\n</center>\n",
      "metadata": {}
    },
    {
      "cell_type": "markdown",
      "source": "#### Add your code below following the instructions given in the course\n",
      "metadata": {}
    },
    {
      "cell_type": "markdown",
      "source": "# My Jupyter Notebook on IBM Watson Studio",
      "metadata": {}
    },
    {
      "cell_type": "markdown",
      "source": "**Freweyni Gebrehiwet**\n\nData Analyst In commercial Bank Of Ethiopia",
      "metadata": {}
    },
    {
      "cell_type": "markdown",
      "source": "*I am interested in data science because i want to solve the complex problems and making an impact on the society and business.*\n*It is also the most demanding job currently.*",
      "metadata": {}
    },
    {
      "cell_type": "markdown",
      "source": "A list of data science language\n1. Python\n2. R\n3. SQL\n4. Scala\n5. C++\n6. Julia\n7. Java and others",
      "metadata": {}
    },
    {
      "cell_type": "markdown",
      "source": "A list of data science libraries\n1. Pandas\n2. Numpy\n3. TensorFlow\n4. Matplotlib\n5. Keras\n6. Scikit-learn\n7. PyTourch and others",
      "metadata": {}
    },
    {
      "cell_type": "markdown",
      "source": "A table for open source Data science tools\n\n|Data Managment|Data Integration & Transformation|Data Visualization|Model Building|Model Deployment|Model Monitoring & Assessment|Data Asset Managment|Code Asset Managment|Development Envirnoment|Execution Envirnoment|\n|----|----|----|----|----|----|----|----|----|----|\n|MySQL|Apache Air Flow|Hue|Knime|PredictionIO|ModeIDB|Apache Atlas|git|Jupyter Lab|Apache Spark|\n|mongoDB|Apache KafKa|Kibana|Orange|SELDON|Prometheus|ODB EGERIA|GitHub|R studio|Flink|\n",
      "metadata": {}
    },
    {
      "cell_type": "markdown",
      "source": "### Common Arthemetic operations\n1. Addition-*The addition operator in is “+”. It is used to add or sum two values*\n2. Substraction- *The operator for subtraction is “-”. It subtracts the second value from the first one.*\n3. Division -*The “/” operator is the division operator in Python. We can find the quotient when the first operand is divided by the second.*\n4. Multiplication -*The Arithmetic Operator in Python for multiplication is “*”. With this operator, we can find the product of two values.*\n",
      "metadata": {}
    },
    {
      "cell_type": "code",
      "source": "1+1\n",
      "metadata": {
        "trusted": true
      },
      "execution_count": 1,
      "outputs": [
        {
          "execution_count": 1,
          "output_type": "execute_result",
          "data": {
            "text/plain": "2"
          },
          "metadata": {}
        }
      ]
    },
    {
      "cell_type": "code",
      "source": "2*4",
      "metadata": {
        "trusted": true
      },
      "execution_count": 2,
      "outputs": [
        {
          "execution_count": 2,
          "output_type": "execute_result",
          "data": {
            "text/plain": "8"
          },
          "metadata": {}
        }
      ]
    },
    {
      "cell_type": "code",
      "source": "num1=3\nnum2=4\nprint(num1+num2)",
      "metadata": {
        "trusted": true
      },
      "execution_count": 3,
      "outputs": [
        {
          "name": "stdout",
          "text": "7\n",
          "output_type": "stream"
        }
      ]
    },
    {
      "cell_type": "code",
      "source": "print(num1*num2)\n\n",
      "metadata": {
        "trusted": true
      },
      "execution_count": 4,
      "outputs": [
        {
          "name": "stdout",
          "text": "12\n",
          "output_type": "stream"
        }
      ]
    },
    {
      "cell_type": "markdown",
      "source": "## List of Objectives for jupyter notebook\n1. Data organization and cleaning\n2. programming practice\n3. data visualization and sharing\n\n\n",
      "metadata": {}
    },
    {
      "cell_type": "markdown",
      "source": "# Author's name\nFreweyni Gebrehiwet",
      "metadata": {}
    },
    {
      "cell_type": "code",
      "source": "",
      "metadata": {},
      "execution_count": null,
      "outputs": []
    }
  ]
}